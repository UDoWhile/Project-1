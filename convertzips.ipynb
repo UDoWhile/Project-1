{
 "cells": [
  {
   "cell_type": "code",
   "execution_count": 174,
   "id": "b5826e50-c4ea-4a4c-9bfe-162dd9262998",
   "metadata": {},
   "outputs": [],
   "source": [
    "import numpy as np\n",
    "import pandas as pd"
   ]
  },
  {
   "cell_type": "code",
   "execution_count": 175,
   "id": "e9169a45-d185-44e2-8513-b285fb97abb1",
   "metadata": {},
   "outputs": [],
   "source": [
    "us_zipcodes = \"Resources/zip_code_database.csv\""
   ]
  },
  {
   "cell_type": "code",
   "execution_count": 176,
   "id": "b178119c-3b72-45dd-ae26-c013e5f43f12",
   "metadata": {},
   "outputs": [],
   "source": [
    "us_zipcodes = pd.read_csv(us_zipcodes)\n",
    "us_zipcodes_df = pd.DataFrame(us_zipcodes)"
   ]
  },
  {
   "cell_type": "code",
   "execution_count": 177,
   "id": "f5ee1255-6b95-4ad8-b425-a3dc4069db00",
   "metadata": {},
   "outputs": [],
   "source": [
    "florida_zipcodes_df = us_zipcodes_df.loc[us_zipcodes_df['state'] == 'FL']"
   ]
  },
  {
   "cell_type": "code",
   "execution_count": 178,
   "id": "a9021c41-47d8-4221-a26c-9b6a0b9282e3",
   "metadata": {},
   "outputs": [],
   "source": [
    "florida_zipcodes_df = florida_zipcodes_df.drop(['type','decommissioned', 'acceptable_cities','unacceptable_cities', 'timezone', 'area_codes', 'world_region', 'country', 'irs_estimated_population'], axis=1)"
   ]
  },
  {
   "cell_type": "code",
   "execution_count": 179,
   "id": "c20c9234-1b82-48f1-b405-544bd4e70e43",
   "metadata": {},
   "outputs": [
    {
     "data": {
      "text/html": [
       "<div>\n",
       "<style scoped>\n",
       "    .dataframe tbody tr th:only-of-type {\n",
       "        vertical-align: middle;\n",
       "    }\n",
       "\n",
       "    .dataframe tbody tr th {\n",
       "        vertical-align: top;\n",
       "    }\n",
       "\n",
       "    .dataframe thead th {\n",
       "        text-align: right;\n",
       "    }\n",
       "</style>\n",
       "<table border=\"1\" class=\"dataframe\">\n",
       "  <thead>\n",
       "    <tr style=\"text-align: right;\">\n",
       "      <th></th>\n",
       "      <th>zip</th>\n",
       "      <th>primary_city</th>\n",
       "      <th>state</th>\n",
       "      <th>county</th>\n",
       "      <th>latitude</th>\n",
       "      <th>longitude</th>\n",
       "    </tr>\n",
       "  </thead>\n",
       "  <tbody>\n",
       "    <tr>\n",
       "      <th>13847</th>\n",
       "      <td>32003</td>\n",
       "      <td>Fleming Island</td>\n",
       "      <td>FL</td>\n",
       "      <td>Clay County</td>\n",
       "      <td>30.10</td>\n",
       "      <td>-81.71</td>\n",
       "    </tr>\n",
       "    <tr>\n",
       "      <th>13848</th>\n",
       "      <td>32004</td>\n",
       "      <td>Ponte Vedra Beach</td>\n",
       "      <td>FL</td>\n",
       "      <td>St. Johns County</td>\n",
       "      <td>30.23</td>\n",
       "      <td>-81.38</td>\n",
       "    </tr>\n",
       "    <tr>\n",
       "      <th>13849</th>\n",
       "      <td>32006</td>\n",
       "      <td>Fleming Island</td>\n",
       "      <td>FL</td>\n",
       "      <td>Clay County</td>\n",
       "      <td>30.11</td>\n",
       "      <td>-81.72</td>\n",
       "    </tr>\n",
       "    <tr>\n",
       "      <th>13850</th>\n",
       "      <td>32007</td>\n",
       "      <td>Bostwick</td>\n",
       "      <td>FL</td>\n",
       "      <td>Putnam County</td>\n",
       "      <td>29.77</td>\n",
       "      <td>-81.63</td>\n",
       "    </tr>\n",
       "    <tr>\n",
       "      <th>13851</th>\n",
       "      <td>32008</td>\n",
       "      <td>Branford</td>\n",
       "      <td>FL</td>\n",
       "      <td>Suwannee County</td>\n",
       "      <td>29.96</td>\n",
       "      <td>-82.92</td>\n",
       "    </tr>\n",
       "  </tbody>\n",
       "</table>\n",
       "</div>"
      ],
      "text/plain": [
       "         zip       primary_city state            county  latitude  longitude\n",
       "13847  32003     Fleming Island    FL       Clay County     30.10     -81.71\n",
       "13848  32004  Ponte Vedra Beach    FL  St. Johns County     30.23     -81.38\n",
       "13849  32006     Fleming Island    FL       Clay County     30.11     -81.72\n",
       "13850  32007           Bostwick    FL     Putnam County     29.77     -81.63\n",
       "13851  32008           Branford    FL   Suwannee County     29.96     -82.92"
      ]
     },
     "execution_count": 179,
     "metadata": {},
     "output_type": "execute_result"
    }
   ],
   "source": [
    "florida_zipcodes_df.head()"
   ]
  },
  {
   "cell_type": "code",
   "execution_count": 180,
   "id": "87801592-a0fc-4397-ab20-2124aca709b9",
   "metadata": {},
   "outputs": [],
   "source": [
    "florida_zipcodes_df = florida_zipcodes_df.sort_values('county')"
   ]
  },
  {
   "cell_type": "code",
   "execution_count": 181,
   "id": "bdb46622-61e5-4126-bf0a-8bde2d1002fc",
   "metadata": {},
   "outputs": [],
   "source": [
    "florida_zipcodes_df.set_index('zip', inplace=True)"
   ]
  },
  {
   "cell_type": "code",
   "execution_count": 182,
   "id": "f9a9fc3b-c582-48ff-a7f6-b979082c6a83",
   "metadata": {},
   "outputs": [
    {
     "data": {
      "text/html": [
       "<div>\n",
       "<style scoped>\n",
       "    .dataframe tbody tr th:only-of-type {\n",
       "        vertical-align: middle;\n",
       "    }\n",
       "\n",
       "    .dataframe tbody tr th {\n",
       "        vertical-align: top;\n",
       "    }\n",
       "\n",
       "    .dataframe thead th {\n",
       "        text-align: right;\n",
       "    }\n",
       "</style>\n",
       "<table border=\"1\" class=\"dataframe\">\n",
       "  <thead>\n",
       "    <tr style=\"text-align: right;\">\n",
       "      <th></th>\n",
       "      <th>primary_city</th>\n",
       "      <th>state</th>\n",
       "      <th>county</th>\n",
       "      <th>latitude</th>\n",
       "      <th>longitude</th>\n",
       "    </tr>\n",
       "    <tr>\n",
       "      <th>zip</th>\n",
       "      <th></th>\n",
       "      <th></th>\n",
       "      <th></th>\n",
       "      <th></th>\n",
       "      <th></th>\n",
       "    </tr>\n",
       "  </thead>\n",
       "  <tbody>\n",
       "    <tr>\n",
       "      <th>32658</th>\n",
       "      <td>La Crosse</td>\n",
       "      <td>FL</td>\n",
       "      <td>Alachua County</td>\n",
       "      <td>29.85</td>\n",
       "      <td>-82.42</td>\n",
       "    </tr>\n",
       "    <tr>\n",
       "      <th>32608</th>\n",
       "      <td>Gainesville</td>\n",
       "      <td>FL</td>\n",
       "      <td>Alachua County</td>\n",
       "      <td>29.60</td>\n",
       "      <td>-82.41</td>\n",
       "    </tr>\n",
       "    <tr>\n",
       "      <th>32607</th>\n",
       "      <td>Gainesville</td>\n",
       "      <td>FL</td>\n",
       "      <td>Alachua County</td>\n",
       "      <td>29.65</td>\n",
       "      <td>-82.42</td>\n",
       "    </tr>\n",
       "    <tr>\n",
       "      <th>32606</th>\n",
       "      <td>Gainesville</td>\n",
       "      <td>FL</td>\n",
       "      <td>Alachua County</td>\n",
       "      <td>29.68</td>\n",
       "      <td>-82.44</td>\n",
       "    </tr>\n",
       "    <tr>\n",
       "      <th>32605</th>\n",
       "      <td>Gainesville</td>\n",
       "      <td>FL</td>\n",
       "      <td>Alachua County</td>\n",
       "      <td>29.68</td>\n",
       "      <td>-82.37</td>\n",
       "    </tr>\n",
       "    <tr>\n",
       "      <th>...</th>\n",
       "      <td>...</td>\n",
       "      <td>...</td>\n",
       "      <td>...</td>\n",
       "      <td>...</td>\n",
       "      <td>...</td>\n",
       "    </tr>\n",
       "    <tr>\n",
       "      <th>33191</th>\n",
       "      <td>Miami</td>\n",
       "      <td>FL</td>\n",
       "      <td>NaN</td>\n",
       "      <td>25.77</td>\n",
       "      <td>-80.20</td>\n",
       "    </tr>\n",
       "    <tr>\n",
       "      <th>33192</th>\n",
       "      <td>Miami</td>\n",
       "      <td>FL</td>\n",
       "      <td>NaN</td>\n",
       "      <td>25.77</td>\n",
       "      <td>-80.20</td>\n",
       "    </tr>\n",
       "    <tr>\n",
       "      <th>33198</th>\n",
       "      <td>Miami</td>\n",
       "      <td>FL</td>\n",
       "      <td>NaN</td>\n",
       "      <td>25.77</td>\n",
       "      <td>-80.20</td>\n",
       "    </tr>\n",
       "    <tr>\n",
       "      <th>33206</th>\n",
       "      <td>Miami</td>\n",
       "      <td>FL</td>\n",
       "      <td>NaN</td>\n",
       "      <td>25.72</td>\n",
       "      <td>-80.26</td>\n",
       "    </tr>\n",
       "    <tr>\n",
       "      <th>34441</th>\n",
       "      <td>Hernando</td>\n",
       "      <td>FL</td>\n",
       "      <td>NaN</td>\n",
       "      <td>28.90</td>\n",
       "      <td>-82.38</td>\n",
       "    </tr>\n",
       "  </tbody>\n",
       "</table>\n",
       "<p>1495 rows × 5 columns</p>\n",
       "</div>"
      ],
      "text/plain": [
       "      primary_city state          county  latitude  longitude\n",
       "zip                                                          \n",
       "32658    La Crosse    FL  Alachua County     29.85     -82.42\n",
       "32608  Gainesville    FL  Alachua County     29.60     -82.41\n",
       "32607  Gainesville    FL  Alachua County     29.65     -82.42\n",
       "32606  Gainesville    FL  Alachua County     29.68     -82.44\n",
       "32605  Gainesville    FL  Alachua County     29.68     -82.37\n",
       "...            ...   ...             ...       ...        ...\n",
       "33191        Miami    FL             NaN     25.77     -80.20\n",
       "33192        Miami    FL             NaN     25.77     -80.20\n",
       "33198        Miami    FL             NaN     25.77     -80.20\n",
       "33206        Miami    FL             NaN     25.72     -80.26\n",
       "34441     Hernando    FL             NaN     28.90     -82.38\n",
       "\n",
       "[1495 rows x 5 columns]"
      ]
     },
     "execution_count": 182,
     "metadata": {},
     "output_type": "execute_result"
    }
   ],
   "source": [
    "florida_zipcodes_df"
   ]
  },
  {
   "cell_type": "code",
   "execution_count": 183,
   "id": "640a6ddf-ecf6-4d8c-9090-93e6dca2a20c",
   "metadata": {},
   "outputs": [],
   "source": [
    "def get_county (zip_code,florida_zipcodes_df) :\n",
    "    if zip_code in florida_zipcodes_df.index:\n",
    "        return florida_zipcodes_df.loc[zip_code,'county']\n",
    "    else:\n",
    "        return None \n",
    "        "
   ]
  },
  {
   "cell_type": "code",
   "execution_count": 184,
   "id": "25750240-6d51-4570-a557-0dc78fdc8fe9",
   "metadata": {},
   "outputs": [
    {
     "name": "stdout",
     "output_type": "stream",
     "text": [
      "Alachua County\n"
     ]
    }
   ],
   "source": [
    "#test function \n",
    "x = 32605\n",
    "print(get_county (x,florida_zipcodes_df ))"
   ]
  },
  {
   "cell_type": "code",
   "execution_count": null,
   "id": "53c9158b-2371-4616-9d85-51f6c7dd5689",
   "metadata": {},
   "outputs": [],
   "source": []
  }
 ],
 "metadata": {
  "kernelspec": {
   "display_name": "Python 3 (ipykernel)",
   "language": "python",
   "name": "python3"
  },
  "language_info": {
   "codemirror_mode": {
    "name": "ipython",
    "version": 3
   },
   "file_extension": ".py",
   "mimetype": "text/x-python",
   "name": "python",
   "nbconvert_exporter": "python",
   "pygments_lexer": "ipython3",
   "version": "3.10.13"
  }
 },
 "nbformat": 4,
 "nbformat_minor": 5
}
